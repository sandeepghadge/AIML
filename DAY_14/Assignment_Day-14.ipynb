{
 "cells": [
  {
   "cell_type": "markdown",
   "metadata": {},
   "source": [
    "# 1. Create a 3x3x3 array with random values "
   ]
  },
  {
   "cell_type": "code",
   "execution_count": 4,
   "metadata": {},
   "outputs": [
    {
     "name": "stdout",
     "output_type": "stream",
     "text": [
      "[[[0.3600993  0.56232653 0.46827934]\n",
      "  [0.53178824 0.88785678 0.43662903]\n",
      "  [0.48488989 0.53305688 0.49929549]]\n",
      "\n",
      " [[0.33111438 0.24609699 0.37021414]\n",
      "  [0.80310406 0.3335274  0.53716096]\n",
      "  [0.86895857 0.85768863 0.29170979]]\n",
      "\n",
      " [[0.1315598  0.97594478 0.60314964]\n",
      "  [0.29035313 0.22163402 0.19083284]\n",
      "  [0.55806114 0.7956121  0.32239676]]]\n"
     ]
    }
   ],
   "source": [
    "\n",
    "#`hint: np.random.random`\n",
    "import numpy as np\n",
    "\n",
    "Z = np.random.random((3,3,3))\n",
    "print(Z)"
   ]
  },
  {
   "cell_type": "markdown",
   "metadata": {},
   "source": [
    "# 2.Create a 5x5 matrix with values 1,2,3,4 just below the diagonal"
   ]
  },
  {
   "cell_type": "code",
   "execution_count": 6,
   "metadata": {},
   "outputs": [
    {
     "name": "stdout",
     "output_type": "stream",
     "text": [
      "[[0 0 0 0 0]\n",
      " [1 0 0 0 0]\n",
      " [0 2 0 0 0]\n",
      " [0 0 3 0 0]\n",
      " [0 0 0 4 0]]\n"
     ]
    }
   ],
   "source": [
    "\n",
    "Z = np.diag(1+np.arange(4),k=-1)\n",
    "print(Z)"
   ]
  },
  {
   "cell_type": "markdown",
   "metadata": {},
   "source": [
    "# 3.Create a 8x8 matrix and fill it with a checkerboard pattern"
   ]
  },
  {
   "cell_type": "code",
   "execution_count": 7,
   "metadata": {},
   "outputs": [
    {
     "name": "stdout",
     "output_type": "stream",
     "text": [
      "[[0 1 0 1 0 1 0 1]\n",
      " [1 0 1 0 1 0 1 0]\n",
      " [0 1 0 1 0 1 0 1]\n",
      " [1 0 1 0 1 0 1 0]\n",
      " [0 1 0 1 0 1 0 1]\n",
      " [1 0 1 0 1 0 1 0]\n",
      " [0 1 0 1 0 1 0 1]\n",
      " [1 0 1 0 1 0 1 0]]\n"
     ]
    }
   ],
   "source": [
    "Z = np.zeros((8,8),dtype=int)\n",
    "Z[1::2,::2] = 1\n",
    "Z[::2,1::2] = 1\n",
    "print(Z)"
   ]
  },
  {
   "cell_type": "markdown",
   "metadata": {},
   "source": [
    "# 4. Normalize a 5x5 random matrix"
   ]
  },
  {
   "cell_type": "code",
   "execution_count": 8,
   "metadata": {},
   "outputs": [
    {
     "name": "stdout",
     "output_type": "stream",
     "text": [
      "[[ 0.27756774  0.72748002 -0.86930016 -1.47442475 -0.47166285]\n",
      " [-0.03783919 -0.75904244 -0.53361097  0.39653066  1.18964016]\n",
      " [-1.3850411   1.43028084 -0.85840215  0.43735974 -0.75580605]\n",
      " [ 0.43881117  0.39106811 -1.12001889 -0.74089861 -1.78325976]\n",
      " [ 1.54615561  1.61827629  1.59396818  0.06367867  0.67848973]]\n"
     ]
    }
   ],
   "source": [
    "Z = np.random.random((5,5))\n",
    "Z = (Z - np.mean (Z)) / (np.std (Z))\n",
    "print(Z)"
   ]
  },
  {
   "cell_type": "markdown",
   "metadata": {},
   "source": [
    "# 5.  How to find common values between two arrays?"
   ]
  },
  {
   "cell_type": "code",
   "execution_count": 9,
   "metadata": {},
   "outputs": [
    {
     "name": "stdout",
     "output_type": "stream",
     "text": [
      "[2 7 9]\n"
     ]
    }
   ],
   "source": [
    "Z1 = np.random.randint(0,10,10)\n",
    "Z2 = np.random.randint(0,10,10)\n",
    "print(np.intersect1d(Z1,Z2))"
   ]
  },
  {
   "cell_type": "markdown",
   "metadata": {},
   "source": [
    "# 6.How to get the dates of yesterday, today and tomorrow?"
   ]
  },
  {
   "cell_type": "code",
   "execution_count": 12,
   "metadata": {},
   "outputs": [
    {
     "name": "stdout",
     "output_type": "stream",
     "text": [
      "2020-07-22\n",
      "2020-07-23\n",
      "2020-07-24\n"
     ]
    }
   ],
   "source": [
    "yesterday = np.datetime64('today') - np.timedelta64(1)\n",
    "today     = np.datetime64('today')\n",
    "tomorrow  = np.datetime64('today') + np.timedelta64(1)\n",
    "print(yesterday)\n",
    "print(today)\n",
    "print(tomorrow)"
   ]
  },
  {
   "cell_type": "markdown",
   "metadata": {},
   "source": [
    "# 7. Consider two random array A and B, check if they are equal"
   ]
  },
  {
   "cell_type": "code",
   "execution_count": 15,
   "metadata": {},
   "outputs": [
    {
     "name": "stdout",
     "output_type": "stream",
     "text": [
      "False\n",
      "False\n"
     ]
    }
   ],
   "source": [
    "A = np.random.randint(0,2,5)\n",
    "B = np.random.randint(0,2,5)\n",
    "\n",
    "# Assuming identical shape of the arrays and a tolerance for the comparison of values\n",
    "equal = np.allclose(A,B)\n",
    "print(equal)\n",
    "\n",
    "# Checking both the shape and the element values, no tolerance (values have to be exactly equal)\n",
    "equal = np.array_equal(A,B)\n",
    "print(equal)"
   ]
  },
  {
   "cell_type": "markdown",
   "metadata": {},
   "source": [
    "# 8.Create random vector of size 10 and replace the maximum value by 0 "
   ]
  },
  {
   "cell_type": "code",
   "execution_count": 16,
   "metadata": {},
   "outputs": [
    {
     "name": "stdout",
     "output_type": "stream",
     "text": [
      "[0.76179618 0.76136066 0.57048147 0.06821329 0.         0.71281865\n",
      " 0.34535246 0.119936   0.12519403 0.31697747]\n"
     ]
    }
   ],
   "source": [
    "Z = np.random.random(10)\n",
    "Z[Z.argmax()] = 0\n",
    "print(Z)"
   ]
  },
  {
   "cell_type": "markdown",
   "metadata": {},
   "source": [
    "# 9. How to print all the values of an array?"
   ]
  },
  {
   "cell_type": "code",
   "execution_count": 19,
   "metadata": {},
   "outputs": [
    {
     "name": "stdout",
     "output_type": "stream",
     "text": [
      "[[0. 0. 0. 0. 0. 0. 0. 0. 0. 0. 0. 0. 0. 0. 0. 0.]\n",
      " [0. 0. 0. 0. 0. 0. 0. 0. 0. 0. 0. 0. 0. 0. 0. 0.]\n",
      " [0. 0. 0. 0. 0. 0. 0. 0. 0. 0. 0. 0. 0. 0. 0. 0.]\n",
      " [0. 0. 0. 0. 0. 0. 0. 0. 0. 0. 0. 0. 0. 0. 0. 0.]\n",
      " [0. 0. 0. 0. 0. 0. 0. 0. 0. 0. 0. 0. 0. 0. 0. 0.]\n",
      " [0. 0. 0. 0. 0. 0. 0. 0. 0. 0. 0. 0. 0. 0. 0. 0.]\n",
      " [0. 0. 0. 0. 0. 0. 0. 0. 0. 0. 0. 0. 0. 0. 0. 0.]\n",
      " [0. 0. 0. 0. 0. 0. 0. 0. 0. 0. 0. 0. 0. 0. 0. 0.]\n",
      " [0. 0. 0. 0. 0. 0. 0. 0. 0. 0. 0. 0. 0. 0. 0. 0.]\n",
      " [0. 0. 0. 0. 0. 0. 0. 0. 0. 0. 0. 0. 0. 0. 0. 0.]\n",
      " [0. 0. 0. 0. 0. 0. 0. 0. 0. 0. 0. 0. 0. 0. 0. 0.]\n",
      " [0. 0. 0. 0. 0. 0. 0. 0. 0. 0. 0. 0. 0. 0. 0. 0.]\n",
      " [0. 0. 0. 0. 0. 0. 0. 0. 0. 0. 0. 0. 0. 0. 0. 0.]\n",
      " [0. 0. 0. 0. 0. 0. 0. 0. 0. 0. 0. 0. 0. 0. 0. 0.]\n",
      " [0. 0. 0. 0. 0. 0. 0. 0. 0. 0. 0. 0. 0. 0. 0. 0.]\n",
      " [0. 0. 0. 0. 0. 0. 0. 0. 0. 0. 0. 0. 0. 0. 0. 0.]]\n"
     ]
    }
   ],
   "source": [
    "np.set_printoptions(threshold=float(\"inf\"))\n",
    "Z = np.zeros((16,16))\n",
    "print(Z)"
   ]
  },
  {
   "cell_type": "markdown",
   "metadata": {},
   "source": [
    "# 10.Subtract the mean of each row of a matrix"
   ]
  },
  {
   "cell_type": "code",
   "execution_count": 21,
   "metadata": {},
   "outputs": [
    {
     "name": "stdout",
     "output_type": "stream",
     "text": [
      "[[ 0.03022044 -0.51373022 -0.03887334  0.21725562  0.22664352 -0.24188111\n",
      "   0.42742935 -0.09805449  0.01198086 -0.02099062]\n",
      " [-0.2852209   0.41245135 -0.2548909  -0.11860637 -0.04121376  0.10999162\n",
      "  -0.33015909  0.44909574 -0.19971704  0.25826936]\n",
      " [ 0.20377276  0.1609935  -0.30466712  0.38854966  0.07645236  0.43079717\n",
      "  -0.21836698 -0.46710225 -0.07422605 -0.19620304]\n",
      " [-0.09089454 -0.45221862 -0.01204566  0.26944948  0.23214419  0.21974285\n",
      "  -0.20101453  0.23316948 -0.39776523  0.19943259]\n",
      " [-0.23995449  0.16500733 -0.16381377  0.0221665   0.34981482 -0.3152606\n",
      "   0.41731774 -0.13309451 -0.17144662  0.06926359]]\n",
      "[[ 0.03022044 -0.51373022 -0.03887334  0.21725562  0.22664352 -0.24188111\n",
      "   0.42742935 -0.09805449  0.01198086 -0.02099062]\n",
      " [-0.2852209   0.41245135 -0.2548909  -0.11860637 -0.04121376  0.10999162\n",
      "  -0.33015909  0.44909574 -0.19971704  0.25826936]\n",
      " [ 0.20377276  0.1609935  -0.30466712  0.38854966  0.07645236  0.43079717\n",
      "  -0.21836698 -0.46710225 -0.07422605 -0.19620304]\n",
      " [-0.09089454 -0.45221862 -0.01204566  0.26944948  0.23214419  0.21974285\n",
      "  -0.20101453  0.23316948 -0.39776523  0.19943259]\n",
      " [-0.23995449  0.16500733 -0.16381377  0.0221665   0.34981482 -0.3152606\n",
      "   0.41731774 -0.13309451 -0.17144662  0.06926359]]\n"
     ]
    }
   ],
   "source": [
    "X = np.random.rand(5, 10)\n",
    "\n",
    "# Recent versions of numpy\n",
    "Y = X - X.mean(axis=1, keepdims=True)\n",
    "\n",
    "# Older versions of numpy\n",
    "Y1 = X - X.mean(axis=1).reshape(-1, 1)\n",
    "\n",
    "print(Y)\n",
    "print(Y1)"
   ]
  },
  {
   "cell_type": "markdown",
   "metadata": {},
   "source": [
    "# 11.Consider a given vector, how to add 1 to each element indexed by a second vector (be careful with repeated indices)? "
   ]
  },
  {
   "cell_type": "code",
   "execution_count": 22,
   "metadata": {},
   "outputs": [
    {
     "name": "stdout",
     "output_type": "stream",
     "text": [
      "[4. 2. 2. 4. 4. 3. 1. 4. 2. 4.]\n"
     ]
    }
   ],
   "source": [
    "Z = np.ones(10)\n",
    "I = np.random.randint(0,len(Z),20)\n",
    "Z += np.bincount(I, minlength=len(Z))\n",
    "print(Z)"
   ]
  },
  {
   "cell_type": "code",
   "execution_count": 23,
   "metadata": {},
   "outputs": [
    {
     "name": "stdout",
     "output_type": "stream",
     "text": [
      "[7. 3. 3. 7. 7. 5. 1. 7. 3. 7.]\n"
     ]
    }
   ],
   "source": [
    "np.add.at(Z, I, 1)\n",
    "print(Z)"
   ]
  },
  {
   "cell_type": "markdown",
   "metadata": {},
   "source": [
    "# 12.How to get the diagonal of a dot product?"
   ]
  },
  {
   "cell_type": "code",
   "execution_count": 31,
   "metadata": {},
   "outputs": [
    {
     "name": "stdout",
     "output_type": "stream",
     "text": [
      "[[0.58178833 0.76658825 0.61477495 0.12653061 0.86772132]\n",
      " [0.46757268 0.38641674 0.80761341 0.25715911 0.45104287]\n",
      " [0.73865237 0.4749705  0.06653438 0.99364804 0.34618558]\n",
      " [0.68015717 0.59553642 0.01168946 0.06275222 0.9848539 ]\n",
      " [0.26216036 0.17066338 0.19331973 0.79120091 0.23940699]]\n",
      "[[0.57201191 0.46620129 0.90364766 0.812761   0.93358363]\n",
      " [0.40040022 0.78733798 0.23231254 0.84865637 0.56652973]\n",
      " [0.92603188 0.11353386 0.68349069 0.93702432 0.89356843]\n",
      " [0.20652459 0.22272549 0.13153942 0.64420725 0.89934241]\n",
      " [0.87464973 0.89226641 0.92996362 0.70392899 0.55025684]]\n",
      "diagonal of a dot product method 1 is.... [1.99411706 1.07364132 1.2759426  1.80285695 1.35747477]\n",
      "diagonal of a dot product method 2 is.... [1.99411706 1.07364132 1.2759426  1.80285695 1.35747477]\n"
     ]
    }
   ],
   "source": [
    "A = np.random.uniform(0,1,(5,5))\n",
    "B = np.random.uniform(0,1,(5,5))\n",
    "print(A)\n",
    "print(B)\n",
    "# Slow version\n",
    "prod1=np.diag(np.dot(A, B))\n",
    "\n",
    "# Fast version\n",
    "prod2=np.sum(A * B.T, axis=1)\n",
    "\n",
    "print(\"diagonal of a dot product method 1 is....\",prod1)\n",
    "print(\"diagonal of a dot product method 2 is....\",prod2)"
   ]
  },
  {
   "cell_type": "markdown",
   "metadata": {},
   "source": [
    "# 13.How to find the most frequent value in an array?"
   ]
  },
  {
   "cell_type": "code",
   "execution_count": 34,
   "metadata": {},
   "outputs": [
    {
     "name": "stdout",
     "output_type": "stream",
     "text": [
      "[2 6 6 9 4 3 2 1 7 6 8 8 6 7 6 3 7 6 2 1 8 6 1 8 2 4 6 3 8 6 5 8 6 0 7 8 3\n",
      " 4 4 1 7 9 9 1 0 0 7 0 5 7]\n",
      "6\n"
     ]
    }
   ],
   "source": [
    "Z = np.random.randint(0,10,50)\n",
    "print(Z)\n",
    "print(np.bincount(Z).argmax())"
   ]
  },
  {
   "cell_type": "markdown",
   "metadata": {},
   "source": [
    "# 14.How to get the n largest values of an array"
   ]
  },
  {
   "cell_type": "code",
   "execution_count": 40,
   "metadata": {},
   "outputs": [
    {
     "name": "stdout",
     "output_type": "stream",
     "text": [
      "[9995 9996 9997 9998 9999]\n"
     ]
    }
   ],
   "source": [
    "Z = np.arange(10000)\n",
    "np.random.shuffle(Z)\n",
    "n = 5\n",
    "\n",
    "\n",
    "print (Z[np.argsort(Z)[-n:]])\n",
    "\n"
   ]
  },
  {
   "cell_type": "markdown",
   "metadata": {},
   "source": [
    "# 15.How to create a record array from a regular array?"
   ]
  },
  {
   "cell_type": "code",
   "execution_count": 41,
   "metadata": {},
   "outputs": [
    {
     "name": "stdout",
     "output_type": "stream",
     "text": [
      "[(b'Hello', 2.5, 3) (b'World', 3.6, 2)]\n"
     ]
    }
   ],
   "source": [
    "Z = np.array([(\"Hello\", 2.5, 3),\n",
    "              (\"World\", 3.6, 2)])\n",
    "R = np.core.records.fromarrays(Z.T,\n",
    "                               names='col1, col2, col3',\n",
    "                               formats = 'S8, f8, i8')\n",
    "print(R)"
   ]
  },
  {
   "cell_type": "code",
   "execution_count": null,
   "metadata": {},
   "outputs": [],
   "source": []
  }
 ],
 "metadata": {
  "kernelspec": {
   "display_name": "Python 3",
   "language": "python",
   "name": "python3"
  },
  "language_info": {
   "codemirror_mode": {
    "name": "ipython",
    "version": 3
   },
   "file_extension": ".py",
   "mimetype": "text/x-python",
   "name": "python",
   "nbconvert_exporter": "python",
   "pygments_lexer": "ipython3",
   "version": "3.7.6"
  }
 },
 "nbformat": 4,
 "nbformat_minor": 2
}
